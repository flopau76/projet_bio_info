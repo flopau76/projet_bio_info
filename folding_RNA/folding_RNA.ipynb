{
 "cells": [
  {
   "cell_type": "markdown",
   "metadata": {},
   "source": [
    "# Todos:\n",
    "- add algo with conservation score: see https://moodle.polytechnique.fr/mod/resource/view.php?id=388407 page 21, ask teacher for more details\n",
    "- add benchmark to compare methods\n",
    "\n",
    "# Evaluation:\n",
    "- 30 min presentation in total for both projects\n",
    "- submit code: Jupyter notebook (with explaination and run example/launch instructions)\n",
    "\n",
    "# Presentation:\n",
    "- intro, intérêt, approche existante"
   ]
  },
  {
   "cell_type": "markdown",
   "metadata": {},
   "source": [
    "### Necessary imports"
   ]
  },
  {
   "cell_type": "code",
   "execution_count": 1,
   "metadata": {},
   "outputs": [],
   "source": [
    "import numpy as np\n",
    "import matplotlib.pyplot as plt\n",
    "import math\n",
    "\n",
    "import RNA\n",
    "import Bio\n",
    "\n",
    "import tempfile\n",
    "from IPython.display import SVG, HTML, display\n",
    "\n",
    "# Type hinting\n",
    "from typing import List, Set, Union"
   ]
  },
  {
   "cell_type": "markdown",
   "metadata": {},
   "source": [
    "### Utility functions"
   ]
  },
  {
   "cell_type": "code",
   "execution_count": 2,
   "metadata": {},
   "outputs": [],
   "source": [
    "def standardize_sequence(x:str) -> str:\n",
    "    ''' Setting all caracters to upper case and converting T to U '''\n",
    "    string = x.upper()\n",
    "    string = string.replace('T', 'U')\n",
    "    return string\n",
    "\n",
    "def pairs2db(seq_lenth:int, pairs:Set[tuple]) -> str:\n",
    "    ''' Parse set of pairs to dot bracket string '''\n",
    "    dbstring = ['.'] * seq_lenth\n",
    "    for pair in pairs:\n",
    "        a, b = pair\n",
    "        if a > b:\n",
    "            a, b = b, a\n",
    "        dbstring[a] = '('\n",
    "        dbstring[b] = ')'\n",
    "    return ''.join(dbstring)\n",
    "\n",
    "def db2pairs(dbstring:str) -> Set[tuple]:\n",
    "    ''' Parse dot bracket string to pairs '''\n",
    "    pairs = set()\n",
    "    stack = []\n",
    "    for i in range(len(dbstring)):\n",
    "        if dbstring[i] == '(':\n",
    "            stack.append(i)\n",
    "        elif dbstring[i] == ')':\n",
    "            if len(stack) == 0:\n",
    "                raise ValueError(\"Unbalanced brackets\")\n",
    "            else: \n",
    "                pairs.add((stack.pop(),i))    \n",
    "    if len(stack) != 0:\n",
    "        raise ValueError(\"Unbalanced brackets\")\n",
    "    return pairs\n",
    "\n",
    "def is_canonical_basepair(x:str, y:str) -> bool:\n",
    "    ''' Check if a pair is canonical '''\n",
    "    _complementary_bases = set([\"AU\",\"CG\",\"GC\",\"GU\",\"UA\",\"UG\"])\n",
    "    return x+y in _complementary_bases\n",
    "\n",
    "def is_canonical(seq:str, dbstring:str) -> bool:\n",
    "    ''' Check if all the pairs of a structure are canonical '''\n",
    "    pairs = db2pairs(dbstring)\n",
    "    for pair in pairs:\n",
    "        if not is_canonical_basepair(seq[pair[0]-1], seq[pair[1]-1]):\n",
    "            return False\n",
    "    return True"
   ]
  },
  {
   "cell_type": "code",
   "execution_count": 3,
   "metadata": {},
   "outputs": [],
   "source": [
    "from Bio import AlignIO\n",
    "\n",
    "def read_file(filename, filetype=None, verbose=False):\n",
    "    if filetype is None: #we try to infer the type from the file extension\n",
    "        if filename.split('.')[-1] == 'aln':\n",
    "            filetype = 'clustal'\n",
    "        elif filename.split('.')[-1] == 'stk':  \n",
    "            filetype = 'stockholm'\n",
    "        else:\n",
    "            raise ValueError(\"File type not recognized\")\n",
    "    align = AlignIO.read(filename, filetype)\n",
    "    if verbose: #A boolean flag indicating whether to print information about the alignment after reading.\n",
    "        print(f\"filetype: {filetype}\")\n",
    "        print(align)\n",
    "    return align"
   ]
  },
  {
   "cell_type": "code",
   "execution_count": 4,
   "metadata": {},
   "outputs": [
    {
     "name": "stdout",
     "output_type": "stream",
     "text": [
      "filetype: stockholm\n",
      "Alignment with 7 rows and 85 columns\n",
      "GCAGUCGUGGCCGAGU---GGUUAAGGCGUCUGACUCGAAAUCA...GCG AC021639.5_181586-181505\n",
      "GCGGGGGUGCCCGAGCCUGGCCAAAGGGGUCGGGCUCAGGACCC...GCA AP000063.1_59179-59095\n",
      "UGGAGUAUAGCCAAG--UGG--UAAGGCAUCGGUUUUUGGUACC...CAG AP000397.1_114390-114319\n",
      "CGGAAAGUAGCUUAGCUUGG--UAGAGCACUCGGUUUGGGACCG...CGA X03715.1_388-461\n",
      "GCCGGGGUGGGGUAGUGGCCAUCCUGG---GGGACUGUGGAUCC...GCC U67517.1_7511-7582\n",
      "GUAAACAUAGUUUA------AUCAAAACAUUAGAUUGUGAAUCU...ACC X99256.1_11558-11626\n",
      "AGUAAAGUCAGCUA------AAAAAGCUUUUGGGCCCAUACCCC...CUA M10217.1_5910-5978\n",
      "GCAGUCGUGGCCGAGU---GGUUAAGGCGUCUGACUCGAAAUCAGAUUCCCUCUGGGAGCGUAGGUUCGAAUCCUACCGGCUGCG\n",
      "\n",
      "['GCAGUCGUGGCCGAGU---GGUUAAGGCGUCUGACUCGAAAUCAGAUUCCCUCUGGGAGCGUAGGUUCGAAUCCUACCGGCUGCG', 'GCGGGGGUGCCCGAGCCUGGCCAAAGGGGUCGGGCUCAGGACCCGAUGGCGUAGGCCUGCGUGGGUUCAAAUCCCACCCCCCGCA', 'UGGAGUAUAGCCAAG--UGG--UAAGGCAUCGGUUUUUGGUACCG---------GCAUGCAAAGGUUCGAAUCCUUUUACUCCAG', 'CGGAAAGUAGCUUAGCUUGG--UAGAGCACUCGGUUUGGGACCGA---------GGGGUCGCAGGUUCGAAUCCUGUCUUUCCGA', 'GCCGGGGUGGGGUAGUGGCCAUCCUGG---GGGACUGUGGAUCCC----------CUGACCCGGGUUCAAUUCCCGGUCCCGGCC', 'GUAAACAUAGUUUA------AUCAAAACAUUAGAUUGUGAAUCUAA----------CAAUAGAGGCUCGAAACCUCUUGCUUACC', 'AGUAAAGUCAGCUA------AAAAAGCUUUUGGGCCCAUACCCCAA----------ACAUGUUGGUUAAACCCCUUCCUUUACUA']\n"
     ]
    }
   ],
   "source": [
    "# test\n",
    "alignment = read_file('data/Testdata/tRNA_7.stk', verbose=True)\n",
    "\n",
    "print(alignment[0].seq)\n",
    "print()\n",
    "\n",
    "alignment_list = [str(record.seq) for record in alignment]\n",
    "print(alignment_list)"
   ]
  },
  {
   "cell_type": "markdown",
   "metadata": {},
   "source": [
    "### RnaMolecule class\n",
    "A class for molecules that contains the sequence and the according structrure"
   ]
  },
  {
   "cell_type": "code",
   "execution_count": 5,
   "metadata": {},
   "outputs": [],
   "source": [
    "class RnaMolecule:\n",
    "    ''' Class to represent RNA molecule with sequence and structure\n",
    "\n",
    "    Properties\n",
    "    ----------\n",
    "    sequence: str\n",
    "        sequence of the molecule\n",
    "    dbstring: str\n",
    "        dot bracket string of the structure\n",
    "    pairs: set\n",
    "        set of pairs of the structure\n",
    "    bpp: tupple of tuple\n",
    "        base pair probability matrix. !!! the indices start at 1 (first line and column are 0)\n",
    "    '''\n",
    "    def __init__(self, sequence:str, structure=None):\n",
    "        \"\"\"\n",
    "        Initialises an instance\n",
    "\n",
    "        Args:\n",
    "            sequence: str, sequence of the molecule\n",
    "            structure: dbstring or set of pairs of the structure, optionnal\n",
    "        \"\"\"\n",
    "        self.sequence = standardize_sequence(sequence)\n",
    "        if structure is None:\n",
    "            self.dbstring = '.' * len(sequence)\n",
    "            self.pairs = set()\n",
    "        elif type(structure) == str:\n",
    "            self.dbstring = structure\n",
    "            self.pairs = db2pairs(structure)\n",
    "        elif type(structure) == set:   \n",
    "            self.pairs = structure\n",
    "            self.dbstring = pairs2db(len(sequence), structure)\n",
    "        self.bpp = None\n",
    "\n",
    "    def set_structure(self, structure=None):\n",
    "        ''' Set the structure of the molecule\n",
    "        If no structure is given, the minimum free energy (MFE) structure is computed with ViennaRNA'''\n",
    "        if structure is None:\n",
    "            model = RNA.md()\n",
    "            model.uniq_ML = 1  # activate unique multibranch loop decomposition    \n",
    "            fold_compound = RNA.fold_compound(self.sequence, model)\n",
    "            structure, energy = fold_compound.mfe()\n",
    "            fold_compound.exp_params_rescale(energy)\n",
    "            fold_compound.pf()    # compute partition function to fill DP matrices\n",
    "\n",
    "            self.bpp = fold_compound.bpp()\n",
    "\n",
    "        if type(structure) == str:\n",
    "            self.dbstring = structure\n",
    "            self.pairs = db2pairs(structure)\n",
    "        elif type(structure) == set:   \n",
    "            self.pairs = structure\n",
    "            self.dbstring = pairs2db(len(self.sequence), structure)\n",
    "            \n",
    "    \n",
    "    def __str__(self):\n",
    "        return f\"RnaMolecule({self.sequence}, {self.dbstring})\"\n",
    "\n",
    "    def plot(self):\n",
    "        ''' Plot the structure of the RNA molecule '''\n",
    "        fp = tempfile.NamedTemporaryFile(suffix=\"svg\")\n",
    "        RNA.svg_rna_plot(self.sequence, structure=self.dbstring, ssfile=fp.name)\n",
    "        display(SVG(fp.name))\n",
    "    \n",
    "    def plot_bpp(self):\n",
    "        if self.bpp is None:\n",
    "            print(\"bpp has not been computed\")\n",
    "            return\n",
    "        bpp2 = [[math.sqrt(p)  for p in row[1:]]for row in self.bpp[1:]] # why use sqrt: only for better visualization of small values ?\n",
    "        plt.imshow(bpp2)\n",
    "        plt.title(\"base pair probability\")\n",
    "        plt.show()\n",
    "        unp = [1-sum(self.bpp[i][j] + self.bpp[j][i] for j in range(1,len(self.bpp))) for i in range(1,len(self.bpp))]\n",
    "        plt.plot(unp)\n",
    "        plt.title(\"probability to be unpaired\")\n",
    "        plt.show()"
   ]
  },
  {
   "cell_type": "code",
   "execution_count": 6,
   "metadata": {},
   "outputs": [
    {
     "data": {
      "image/svg+xml": [
       "<svg xmlns=\"http://www.w3.org/2000/svg\" height=\"452\" width=\"452\">\n",
       "  <script type=\"text/ecmascript\">\n",
       "    <![CDATA[\n",
       "      var shown = 1;\n",
       "      function click() {\n",
       "        var seq = document.getElementById(\"seq\");\n",
       "        if (shown==1) {\n",
       "          seq.setAttribute(\"style\", \"visibility: hidden\");\n",
       "          shown = 0;\n",
       "        } else {\n",
       "          seq.setAttribute(\"style\", \"visibility: visible\");\n",
       "          shown = 1;\n",
       "        }\n",
       "      }\n",
       "    ]]>\n",
       "  </script>\n",
       "  <style type=\"text/css\">\n",
       "    <![CDATA[\n",
       "      .nucleotide {\n",
       "        font-family: SansSerif;\n",
       "      }\n",
       "      .backbone {\n",
       "        stroke: grey;\n",
       "        fill:   none;\n",
       "        stroke-width: 1.5;\n",
       "      }\n",
       "      .basepairs {\n",
       "        stroke: red;\n",
       "        fill:   none;\n",
       "        stroke-width: 2.5;\n",
       "      }\n",
       "    ]]>\n",
       "  </style>\n",
       "\n",
       "  <rect style=\"stroke: white; fill: white\" height=\"452\" x=\"0\" y=\"0\" width=\"452\" onclick=\"click(evt)\"/>\n",
       "  <g transform=\"scale(1.844444,1.844444) translate(23.028122,28.693405)\">\n",
       "    <polyline class=\"backbone\" id=\"outline\" points=\"       82.534,53.808       82.870,68.804       91.518,81.062       76.608,82.702       61.698,84.343       46.788,85.983       31.878,87.624       21.539,76.053       6.366,72.802       -7.806,79.121       -15.528,92.580       -13.831,108.004       -3.367,119.462       11.840,122.548       25.943,116.076       33.519,102.534       48.429,100.893       63.339,99.253       78.249,97.612       93.159,95.972       107.909,98.696       121.249,105.555       134.589,112.413       147.929,119.272       161.270,126.131       174.610,132.989       187.950,139.848       199.272,152.467       214.532,145.082       211.660,128.373       194.808,126.508       181.468,119.649       168.128,112.791       154.788,105.932       141.448,99.073       128.108,92.215       114.768,85.356       127.223,76.998       132.895,63.111       129.854,48.423       119.134,37.931       104.383,35.206     \"/>\n",
       "    <g id=\"pairs\">\n",
       "      <line class=\"basepairs\" id=\"3,20\" x1=\"91.51800\" y1=\"81.06155\" x2=\"93.15856\" y2=\"95.97156\"/>\n",
       "      <line class=\"basepairs\" id=\"4,19\" x1=\"76.60798\" y1=\"82.70211\" x2=\"78.24855\" y2=\"97.61213\"/>\n",
       "      <line class=\"basepairs\" id=\"5,18\" x1=\"61.69797\" y1=\"84.34268\" x2=\"63.33854\" y2=\"99.25269\"/>\n",
       "      <line class=\"basepairs\" id=\"6,17\" x1=\"46.78795\" y1=\"85.98325\" x2=\"48.42852\" y2=\"100.89326\"/>\n",
       "      <line class=\"basepairs\" id=\"7,16\" x1=\"31.87794\" y1=\"87.62382\" x2=\"33.51851\" y2=\"102.53383\"/>\n",
       "      <line class=\"basepairs\" id=\"21,37\" x1=\"107.90905\" y1=\"98.69611\" x2=\"114.76768\" y2=\"85.35598\"/>\n",
       "      <line class=\"basepairs\" id=\"22,36\" x1=\"121.24918\" y1=\"105.55475\" x2=\"128.10782\" y2=\"92.21461\"/>\n",
       "      <line class=\"basepairs\" id=\"23,35\" x1=\"134.58931\" y1=\"112.41338\" x2=\"141.44795\" y2=\"99.07325\"/>\n",
       "      <line class=\"basepairs\" id=\"24,34\" x1=\"147.92944\" y1=\"119.27202\" x2=\"154.78809\" y2=\"105.93188\"/>\n",
       "      <line class=\"basepairs\" id=\"25,33\" x1=\"161.26958\" y1=\"126.13065\" x2=\"168.12822\" y2=\"112.79052\"/>\n",
       "      <line class=\"basepairs\" id=\"26,32\" x1=\"174.60971\" y1=\"132.98929\" x2=\"181.46834\" y2=\"119.64915\"/>\n",
       "      <line class=\"basepairs\" id=\"27,31\" x1=\"187.94984\" y1=\"139.84792\" x2=\"194.80847\" y2=\"126.50779\"/>\n",
       "    </g>\n",
       "    <g transform=\"translate(-4.6, 4)\" id=\"seq\">\n",
       "      <text class=\"nucleotide\" x=\"82.534\" y=\"53.808\">G</text>\n",
       "      <text class=\"nucleotide\" x=\"82.870\" y=\"68.804\">A</text>\n",
       "      <text class=\"nucleotide\" x=\"91.518\" y=\"81.062\">G</text>\n",
       "      <text class=\"nucleotide\" x=\"76.608\" y=\"82.702\">U</text>\n",
       "      <text class=\"nucleotide\" x=\"61.698\" y=\"84.343\">A</text>\n",
       "      <text class=\"nucleotide\" x=\"46.788\" y=\"85.983\">G</text>\n",
       "      <text class=\"nucleotide\" x=\"31.878\" y=\"87.624\">U</text>\n",
       "      <text class=\"nucleotide\" x=\"21.539\" y=\"76.053\">G</text>\n",
       "      <text class=\"nucleotide\" x=\"6.366\" y=\"72.802\">G</text>\n",
       "      <text class=\"nucleotide\" x=\"-7.806\" y=\"79.121\">A</text>\n",
       "      <text class=\"nucleotide\" x=\"-15.528\" y=\"92.580\">A</text>\n",
       "      <text class=\"nucleotide\" x=\"-13.831\" y=\"108.004\">C</text>\n",
       "      <text class=\"nucleotide\" x=\"-3.367\" y=\"119.462\">C</text>\n",
       "      <text class=\"nucleotide\" x=\"11.840\" y=\"122.548\">A</text>\n",
       "      <text class=\"nucleotide\" x=\"25.943\" y=\"116.076\">G</text>\n",
       "      <text class=\"nucleotide\" x=\"33.519\" y=\"102.534\">G</text>\n",
       "      <text class=\"nucleotide\" x=\"48.429\" y=\"100.893\">C</text>\n",
       "      <text class=\"nucleotide\" x=\"63.339\" y=\"99.253\">U</text>\n",
       "      <text class=\"nucleotide\" x=\"78.249\" y=\"97.612\">A</text>\n",
       "      <text class=\"nucleotide\" x=\"93.159\" y=\"95.972\">U</text>\n",
       "      <text class=\"nucleotide\" x=\"107.909\" y=\"98.696\">G</text>\n",
       "      <text class=\"nucleotide\" x=\"121.249\" y=\"105.555\">U</text>\n",
       "      <text class=\"nucleotide\" x=\"134.589\" y=\"112.413\">U</text>\n",
       "      <text class=\"nucleotide\" x=\"147.929\" y=\"119.272\">U</text>\n",
       "      <text class=\"nucleotide\" x=\"161.270\" y=\"126.131\">G</text>\n",
       "      <text class=\"nucleotide\" x=\"174.610\" y=\"132.989\">U</text>\n",
       "      <text class=\"nucleotide\" x=\"187.950\" y=\"139.848\">G</text>\n",
       "      <text class=\"nucleotide\" x=\"199.272\" y=\"152.467\">A</text>\n",
       "      <text class=\"nucleotide\" x=\"214.532\" y=\"145.082\">C</text>\n",
       "      <text class=\"nucleotide\" x=\"211.660\" y=\"128.373\">U</text>\n",
       "      <text class=\"nucleotide\" x=\"194.808\" y=\"126.508\">C</text>\n",
       "      <text class=\"nucleotide\" x=\"181.468\" y=\"119.649\">G</text>\n",
       "      <text class=\"nucleotide\" x=\"168.128\" y=\"112.791\">C</text>\n",
       "      <text class=\"nucleotide\" x=\"154.788\" y=\"105.932\">A</text>\n",
       "      <text class=\"nucleotide\" x=\"141.448\" y=\"99.073\">G</text>\n",
       "      <text class=\"nucleotide\" x=\"128.108\" y=\"92.215\">A</text>\n",
       "      <text class=\"nucleotide\" x=\"114.768\" y=\"85.356\">C</text>\n",
       "      <text class=\"nucleotide\" x=\"127.223\" y=\"76.998\">U</text>\n",
       "      <text class=\"nucleotide\" x=\"132.895\" y=\"63.111\">A</text>\n",
       "      <text class=\"nucleotide\" x=\"129.854\" y=\"48.423\">A</text>\n",
       "      <text class=\"nucleotide\" x=\"119.134\" y=\"37.931\">C</text>\n",
       "      <text class=\"nucleotide\" x=\"104.383\" y=\"35.206\">A</text>\n",
       "    </g>\n",
       "  </g>\n",
       "</svg>"
      ],
      "text/plain": [
       "<IPython.core.display.SVG object>"
      ]
     },
     "metadata": {},
     "output_type": "display_data"
    },
    {
     "data": {
      "image/png": "[encoded data removed]",
      "text/plain": [
       "<Figure size 640x480 with 1 Axes>"
      ]
     },
     "metadata": {},
     "output_type": "display_data"
    },
    {
     "data": {
      "image/png": "[encoded data removed]",
      "text/plain": [
       "<Figure size 640x480 with 1 Axes>"
      ]
     },
     "metadata": {},
     "output_type": "display_data"
    }
   ],
   "source": [
    "# test\n",
    "sequence = \"GAGUAGUGGAACCAGGCUAUGUUUGUGACUCGCAGACUAACA\"\n",
    "\n",
    "mol = RnaMolecule(sequence)\n",
    "mol.set_structure()\n",
    "mol.plot()\n",
    "mol.plot_bpp()"
   ]
  },
  {
   "cell_type": "markdown",
   "metadata": {},
   "source": [
    "# Computing the structure of an alignment"
   ]
  },
  {
   "cell_type": "markdown",
   "metadata": {},
   "source": [
    "### Using the ViennaRNA package\n",
    "ViennaRNA can predict the structure of a sequence or of an alignment, by minimizing the folding energy."
   ]
  },
  {
   "cell_type": "code",
   "execution_count": 7,
   "metadata": {},
   "outputs": [],
   "source": [
    "def predict_structure_mfe(sequence: Union[str, List[str]]) -> str:\n",
    "    model = RNA.md()\n",
    "    model.uniq_ML = 1  # activate unique multibranch loop decomposition    \n",
    "    fold_compound = RNA.fold_compound(sequence, model)\n",
    "    structure, energy = fold_compound.mfe()\n",
    "    fold_compound.exp_params_rescale(energy)\n",
    "    fold_compound.pf()    # compute partition function to fill DP matrices\n",
    "    return structure"
   ]
  },
  {
   "cell_type": "markdown",
   "metadata": {},
   "source": [
    "# Nussinov algorithm\n",
    "\n",
    "Given an RNA sequence $S$, the Nussinov algorithm computes the maximum number of basepairs in any of its non-crossing RNA secondary structures. By dynamic programming the algorithm computes the maximum number of base pairs in structures of all of its subsequences $S_i,\\dots,S_j$ and stores them at matrix entries $M_{i,j}$.\n",
    "\n",
    "$M_{i,j}$ is defined by the following initialisation: $ \\forall j − i \\leq \\text{min\\_loop}: \\quad M_{i,j} = \\text{unpaired\\_score}(i,j) $\n",
    "\n",
    "\n",
    "and the following the following reccursion formula:\n",
    "$$\n",
    "\\forall 1 \\leq i < j \\leq n, \\quad j − i > \\text{min\\_loop}: \\qquad\n",
    "M_{i,j} = \\max \\begin{cases}\n",
    "  M_{i+1,j-1} + \\text{paired\\_accuracy}(i,j) & \\text{ if $S_i$ and $S_j$ compl.} \\\\\n",
    "  \\max_{i \\leq k< j} M_{i,k}+ M_{k+1,j}\n",
    "\\end{cases}\n",
    "$$"
   ]
  },
  {
   "cell_type": "code",
   "execution_count": 8,
   "metadata": {},
   "outputs": [],
   "source": [
    "def compute_matrix(alignment:List[RnaMolecule], n, unpaired_score, paired_score, min_loop=1,l=1)->np.array:\n",
    "    '''Predict folding of RNA alignement using modified Nussinov algorithm'''\n",
    "\n",
    "    M = np.zeros((n, n))\n",
    "\n",
    "    # initialize the matrix\n",
    "    for i in range(n):\n",
    "        for j in range(i, min(n,i+min_loop+1)):\n",
    "            M[i][j] = unpaired_score(alignment, i)\n",
    "    # fill the matrix\n",
    "    for i in reversed(range(n)):\n",
    "        for j in range(i+min_loop+1, n):\n",
    "            M[i][j] = max([M[i,k] + M[k+1,j] for k in range(i, j)])\n",
    "            M[i][j] = max(M[i][j], M[i+1,j-1] + paired_score(alignment, i, j,l))\n",
    "    return M\n",
    "\n",
    "def traceback_matrix(alignment:List[RnaMolecule], n, paired_score, M:np.array, min_loop:int,l=1) -> list:\n",
    "    '''Traceback the modified Nussinov matrix to find the pairs'''\n",
    "     \n",
    "    def traceback_position(i,j,l):\n",
    "        pairs = []\n",
    "        while j-i >= min_loop:\n",
    "            if M[i][j] == M[i+1][j-1] + paired_score(alignment, i, j,l):\n",
    "                pairs.append((i,j))\n",
    "                i += 1\n",
    "                j -= 1\n",
    "            elif M[i][j] == M[i+1][j]:  # not necessary, but avoids some recurisve calls\n",
    "                i += 1\n",
    "            elif M[i][j] == M[i][j-1]:\n",
    "                j -= 1\n",
    "            else:\n",
    "                for k in range(i, j):\n",
    "                    if M[i][j] == M[i][k] + M[k+1][j]:\n",
    "                        pairs += traceback_position(i, k,l)\n",
    "                        pairs += traceback_position(k+1, j,l)\n",
    "                        return pairs\n",
    "        return pairs\n",
    "\n",
    "    return traceback_position(0, n-1,l)\n",
    "\n",
    "def predict_structure(alignment:List[RnaMolecule], unpaired_score, paired_score, min_loop=1,l=1)->str:\n",
    "    '''Predict the consensus structure of an alignment'''\n",
    "    n = 0\n",
    "    if type(alignment[0]) == str:\n",
    "        n = len(alignment)\n",
    "    elif type(alignment[0]) == RnaMolecule:\n",
    "        n = len(alignment[0].sequence)\n",
    "    \n",
    "    M = compute_matrix(alignment, n, unpaired_score, paired_score, min_loop,l)\n",
    "    pairs = traceback_matrix(alignment, n, paired_score, M, min_loop,l)\n",
    "    return pairs2db(n, pairs)"
   ]
  },
  {
   "cell_type": "markdown",
   "metadata": {},
   "source": [
    "### Standard version: maximum of matched pairs\n",
    "The basic version of the Nussinov algorithm tries to maximise the number of matched pairs. This means we use the following score:"
   ]
  },
  {
   "cell_type": "code",
   "execution_count": 9,
   "metadata": {},
   "outputs": [],
   "source": [
    "def unpaired_score_simple(sequence:str, i:int)->float:\n",
    "    return 0\n",
    "\n",
    "def paired_score_simple(sequence:str, i:int, j:int,l)->float:\n",
    "    if is_canonical_basepair(sequence[i], sequence[j]):\n",
    "        return 1\n",
    "    return 0"
   ]
  },
  {
   "cell_type": "code",
   "execution_count": 10,
   "metadata": {},
   "outputs": [
    {
     "data": {
      "image/svg+xml": [
       "<svg xmlns=\"http://www.w3.org/2000/svg\" height=\"452\" width=\"452\">\n",
       "  <script type=\"text/ecmascript\">\n",
       "    <![CDATA[\n",
       "      var shown = 1;\n",
       "      function click() {\n",
       "        var seq = document.getElementById(\"seq\");\n",
       "        if (shown==1) {\n",
       "          seq.setAttribute(\"style\", \"visibility: hidden\");\n",
       "          shown = 0;\n",
       "        } else {\n",
       "          seq.setAttribute(\"style\", \"visibility: visible\");\n",
       "          shown = 1;\n",
       "        }\n",
       "      }\n",
       "    ]]>\n",
       "  </script>\n",
       "  <style type=\"text/css\">\n",
       "    <![CDATA[\n",
       "      .nucleotide {\n",
       "        font-family: SansSerif;\n",
       "      }\n",
       "      .backbone {\n",
       "        stroke: grey;\n",
       "        fill:   none;\n",
       "        stroke-width: 1.5;\n",
       "      }\n",
       "      .basepairs {\n",
       "        stroke: red;\n",
       "        fill:   none;\n",
       "        stroke-width: 2.5;\n",
       "      }\n",
       "    ]]>\n",
       "  </style>\n",
       "\n",
       "  <rect style=\"stroke: white; fill: white\" height=\"452\" x=\"0\" y=\"0\" width=\"452\" onclick=\"click(evt)\"/>\n",
       "  <g transform=\"scale(2.013896,2.013896) translate(1.862015,17.083603)\">\n",
       "    <polyline class=\"backbone\" id=\"outline\" points=\"       90.269,32.162       86.905,39.288       90.857,48.246       91.952,63.206       92.500,78.196       83.772,90.396       69.576,95.239       55.379,100.082       41.182,104.925       33.577,103.869       27.775,106.838       25.362,111.648       8.511,113.514       5.638,130.222       20.899,137.608       32.220,124.989       46.026,119.122       60.222,114.279       74.419,109.436       88.615,104.592       108.455,104.340       121.796,111.199       135.136,118.058       148.476,124.916       161.816,131.775       175.156,138.634       188.496,145.492       199.818,158.112       215.079,150.726       212.206,134.017       195.355,132.152       182.015,125.294       168.675,118.435       155.335,111.576       141.994,104.718       128.654,97.859       115.314,91.000       107.500,78.196       110.788,68.974       106.912,62.112       105.817,47.152       105.269,32.162     \"/>\n",
       "    <g id=\"pairs\">\n",
       "      <line class=\"basepairs\" id=\"1,42\" x1=\"90.26939\" y1=\"32.16154\" x2=\"105.26939\" y2=\"32.16154\"/>\n",
       "      <line class=\"basepairs\" id=\"3,41\" x1=\"90.85724\" y1=\"48.24648\" x2=\"105.81722\" y2=\"47.15154\"/>\n",
       "      <line class=\"basepairs\" id=\"4,40\" x1=\"91.95217\" y1=\"63.20646\" x2=\"106.91216\" y2=\"62.11153\"/>\n",
       "      <line class=\"basepairs\" id=\"5,38\" x1=\"92.50000\" y1=\"78.19645\" x2=\"107.50000\" y2=\"78.19645\"/>\n",
       "      <line class=\"basepairs\" id=\"6,20\" x1=\"83.77212\" y1=\"90.39580\" x2=\"88.61533\" y2=\"104.59239\"/>\n",
       "      <line class=\"basepairs\" id=\"7,19\" x1=\"69.57552\" y1=\"95.23900\" x2=\"74.41872\" y2=\"109.43560\"/>\n",
       "      <line class=\"basepairs\" id=\"8,18\" x1=\"55.37892\" y1=\"100.08221\" x2=\"60.22213\" y2=\"114.27880\"/>\n",
       "      <line class=\"basepairs\" id=\"9,17\" x1=\"41.18233\" y1=\"104.92542\" x2=\"46.02553\" y2=\"119.12201\"/>\n",
       "      <line class=\"basepairs\" id=\"12,16\" x1=\"25.36171\" y1=\"111.64845\" x2=\"32.22034\" y2=\"124.98858\"/>\n",
       "      <line class=\"basepairs\" id=\"21,37\" x1=\"108.45547\" y1=\"104.34048\" x2=\"115.31410\" y2=\"91.00034\"/>\n",
       "      <line class=\"basepairs\" id=\"22,36\" x1=\"121.79560\" y1=\"111.19911\" x2=\"128.65424\" y2=\"97.85898\"/>\n",
       "      <line class=\"basepairs\" id=\"23,35\" x1=\"135.13574\" y1=\"118.05775\" x2=\"141.99437\" y2=\"104.71761\"/>\n",
       "      <line class=\"basepairs\" id=\"24,34\" x1=\"148.47586\" y1=\"124.91638\" x2=\"155.33450\" y2=\"111.57625\"/>\n",
       "      <line class=\"basepairs\" id=\"25,33\" x1=\"161.81599\" y1=\"131.77502\" x2=\"168.67464\" y2=\"118.43488\"/>\n",
       "      <line class=\"basepairs\" id=\"26,32\" x1=\"175.15613\" y1=\"138.63365\" x2=\"182.01477\" y2=\"125.29352\"/>\n",
       "      <line class=\"basepairs\" id=\"27,31\" x1=\"188.49626\" y1=\"145.49228\" x2=\"195.35490\" y2=\"132.15216\"/>\n",
       "    </g>\n",
       "    <g transform=\"translate(-4.6, 4)\" id=\"seq\">\n",
       "      <text class=\"nucleotide\" x=\"90.269\" y=\"32.162\">G</text>\n",
       "      <text class=\"nucleotide\" x=\"86.905\" y=\"39.288\">A</text>\n",
       "      <text class=\"nucleotide\" x=\"90.857\" y=\"48.246\">G</text>\n",
       "      <text class=\"nucleotide\" x=\"91.952\" y=\"63.206\">U</text>\n",
       "      <text class=\"nucleotide\" x=\"92.500\" y=\"78.196\">A</text>\n",
       "      <text class=\"nucleotide\" x=\"83.772\" y=\"90.396\">G</text>\n",
       "      <text class=\"nucleotide\" x=\"69.576\" y=\"95.239\">U</text>\n",
       "      <text class=\"nucleotide\" x=\"55.379\" y=\"100.082\">G</text>\n",
       "      <text class=\"nucleotide\" x=\"41.182\" y=\"104.925\">G</text>\n",
       "      <text class=\"nucleotide\" x=\"33.577\" y=\"103.869\">A</text>\n",
       "      <text class=\"nucleotide\" x=\"27.775\" y=\"106.838\">A</text>\n",
       "      <text class=\"nucleotide\" x=\"25.362\" y=\"111.648\">C</text>\n",
       "      <text class=\"nucleotide\" x=\"8.511\" y=\"113.514\">C</text>\n",
       "      <text class=\"nucleotide\" x=\"5.638\" y=\"130.222\">A</text>\n",
       "      <text class=\"nucleotide\" x=\"20.899\" y=\"137.608\">G</text>\n",
       "      <text class=\"nucleotide\" x=\"32.220\" y=\"124.989\">G</text>\n",
       "      <text class=\"nucleotide\" x=\"46.026\" y=\"119.122\">C</text>\n",
       "      <text class=\"nucleotide\" x=\"60.222\" y=\"114.279\">U</text>\n",
       "      <text class=\"nucleotide\" x=\"74.419\" y=\"109.436\">A</text>\n",
       "      <text class=\"nucleotide\" x=\"88.615\" y=\"104.592\">U</text>\n",
       "      <text class=\"nucleotide\" x=\"108.455\" y=\"104.340\">G</text>\n",
       "      <text class=\"nucleotide\" x=\"121.796\" y=\"111.199\">U</text>\n",
       "      <text class=\"nucleotide\" x=\"135.136\" y=\"118.058\">U</text>\n",
       "      <text class=\"nucleotide\" x=\"148.476\" y=\"124.916\">U</text>\n",
       "      <text class=\"nucleotide\" x=\"161.816\" y=\"131.775\">G</text>\n",
       "      <text class=\"nucleotide\" x=\"175.156\" y=\"138.634\">U</text>\n",
       "      <text class=\"nucleotide\" x=\"188.496\" y=\"145.492\">G</text>\n",
       "      <text class=\"nucleotide\" x=\"199.818\" y=\"158.112\">A</text>\n",
       "      <text class=\"nucleotide\" x=\"215.079\" y=\"150.726\">C</text>\n",
       "      <text class=\"nucleotide\" x=\"212.206\" y=\"134.017\">U</text>\n",
       "      <text class=\"nucleotide\" x=\"195.355\" y=\"132.152\">C</text>\n",
       "      <text class=\"nucleotide\" x=\"182.015\" y=\"125.294\">G</text>\n",
       "      <text class=\"nucleotide\" x=\"168.675\" y=\"118.435\">C</text>\n",
       "      <text class=\"nucleotide\" x=\"155.335\" y=\"111.576\">A</text>\n",
       "      <text class=\"nucleotide\" x=\"141.994\" y=\"104.718\">G</text>\n",
       "      <text class=\"nucleotide\" x=\"128.654\" y=\"97.859\">A</text>\n",
       "      <text class=\"nucleotide\" x=\"115.314\" y=\"91.000\">C</text>\n",
       "      <text class=\"nucleotide\" x=\"107.500\" y=\"78.196\">U</text>\n",
       "      <text class=\"nucleotide\" x=\"110.788\" y=\"68.974\">A</text>\n",
       "      <text class=\"nucleotide\" x=\"106.912\" y=\"62.112\">A</text>\n",
       "      <text class=\"nucleotide\" x=\"105.817\" y=\"47.152\">C</text>\n",
       "      <text class=\"nucleotide\" x=\"105.269\" y=\"32.162\">A</text>\n",
       "    </g>\n",
       "  </g>\n",
       "</svg>"
      ],
      "text/plain": [
       "<IPython.core.display.SVG object>"
      ]
     },
     "metadata": {},
     "output_type": "display_data"
    },
    {
     "data": {
      "image/svg+xml": [
       "<svg xmlns=\"http://www.w3.org/2000/svg\" height=\"452\" width=\"452\">\n",
       "  <script type=\"text/ecmascript\">\n",
       "    <![CDATA[\n",
       "      var shown = 1;\n",
       "      function click() {\n",
       "        var seq = document.getElementById(\"seq\");\n",
       "        if (shown==1) {\n",
       "          seq.setAttribute(\"style\", \"visibility: hidden\");\n",
       "          shown = 0;\n",
       "        } else {\n",
       "          seq.setAttribute(\"style\", \"visibility: visible\");\n",
       "          shown = 1;\n",
       "        }\n",
       "      }\n",
       "    ]]>\n",
       "  </script>\n",
       "  <style type=\"text/css\">\n",
       "    <![CDATA[\n",
       "      .nucleotide {\n",
       "        font-family: SansSerif;\n",
       "      }\n",
       "      .backbone {\n",
       "        stroke: grey;\n",
       "        fill:   none;\n",
       "        stroke-width: 1.5;\n",
       "      }\n",
       "      .basepairs {\n",
       "        stroke: red;\n",
       "        fill:   none;\n",
       "        stroke-width: 2.5;\n",
       "      }\n",
       "    ]]>\n",
       "  </style>\n",
       "\n",
       "  <rect style=\"stroke: white; fill: white\" height=\"452\" x=\"0\" y=\"0\" width=\"452\" onclick=\"click(evt)\"/>\n",
       "  <g transform=\"scale(1.844444,1.844444) translate(23.028122,28.693405)\">\n",
       "    <polyline class=\"backbone\" id=\"outline\" points=\"       82.534,53.808       82.870,68.804       91.518,81.062       76.608,82.702       61.698,84.343       46.788,85.983       31.878,87.624       21.539,76.053       6.366,72.802       -7.806,79.121       -15.528,92.580       -13.831,108.004       -3.367,119.462       11.840,122.548       25.943,116.076       33.519,102.534       48.429,100.893       63.339,99.253       78.249,97.612       93.159,95.972       107.909,98.696       121.249,105.555       134.589,112.413       147.929,119.272       161.270,126.131       174.610,132.989       187.950,139.848       199.272,152.467       214.532,145.082       211.660,128.373       194.808,126.508       181.468,119.649       168.128,112.791       154.788,105.932       141.448,99.073       128.108,92.215       114.768,85.356       127.223,76.998       132.895,63.111       129.854,48.423       119.134,37.931       104.383,35.206     \"/>\n",
       "    <g id=\"pairs\">\n",
       "      <line class=\"basepairs\" id=\"3,20\" x1=\"91.51800\" y1=\"81.06155\" x2=\"93.15856\" y2=\"95.97156\"/>\n",
       "      <line class=\"basepairs\" id=\"4,19\" x1=\"76.60798\" y1=\"82.70211\" x2=\"78.24855\" y2=\"97.61213\"/>\n",
       "      <line class=\"basepairs\" id=\"5,18\" x1=\"61.69797\" y1=\"84.34268\" x2=\"63.33854\" y2=\"99.25269\"/>\n",
       "      <line class=\"basepairs\" id=\"6,17\" x1=\"46.78795\" y1=\"85.98325\" x2=\"48.42852\" y2=\"100.89326\"/>\n",
       "      <line class=\"basepairs\" id=\"7,16\" x1=\"31.87794\" y1=\"87.62382\" x2=\"33.51851\" y2=\"102.53383\"/>\n",
       "      <line class=\"basepairs\" id=\"21,37\" x1=\"107.90905\" y1=\"98.69611\" x2=\"114.76768\" y2=\"85.35598\"/>\n",
       "      <line class=\"basepairs\" id=\"22,36\" x1=\"121.24918\" y1=\"105.55475\" x2=\"128.10782\" y2=\"92.21461\"/>\n",
       "      <line class=\"basepairs\" id=\"23,35\" x1=\"134.58931\" y1=\"112.41338\" x2=\"141.44795\" y2=\"99.07325\"/>\n",
       "      <line class=\"basepairs\" id=\"24,34\" x1=\"147.92944\" y1=\"119.27202\" x2=\"154.78809\" y2=\"105.93188\"/>\n",
       "      <line class=\"basepairs\" id=\"25,33\" x1=\"161.26958\" y1=\"126.13065\" x2=\"168.12822\" y2=\"112.79052\"/>\n",
       "      <line class=\"basepairs\" id=\"26,32\" x1=\"174.60971\" y1=\"132.98929\" x2=\"181.46834\" y2=\"119.64915\"/>\n",
       "      <line class=\"basepairs\" id=\"27,31\" x1=\"187.94984\" y1=\"139.84792\" x2=\"194.80847\" y2=\"126.50779\"/>\n",
       "    </g>\n",
       "    <g transform=\"translate(-4.6, 4)\" id=\"seq\">\n",
       "      <text class=\"nucleotide\" x=\"82.534\" y=\"53.808\">G</text>\n",
       "      <text class=\"nucleotide\" x=\"82.870\" y=\"68.804\">A</text>\n",
       "      <text class=\"nucleotide\" x=\"91.518\" y=\"81.062\">G</text>\n",
       "      <text class=\"nucleotide\" x=\"76.608\" y=\"82.702\">U</text>\n",
       "      <text class=\"nucleotide\" x=\"61.698\" y=\"84.343\">A</text>\n",
       "      <text class=\"nucleotide\" x=\"46.788\" y=\"85.983\">G</text>\n",
       "      <text class=\"nucleotide\" x=\"31.878\" y=\"87.624\">U</text>\n",
       "      <text class=\"nucleotide\" x=\"21.539\" y=\"76.053\">G</text>\n",
       "      <text class=\"nucleotide\" x=\"6.366\" y=\"72.802\">G</text>\n",
       "      <text class=\"nucleotide\" x=\"-7.806\" y=\"79.121\">A</text>\n",
       "      <text class=\"nucleotide\" x=\"-15.528\" y=\"92.580\">A</text>\n",
       "      <text class=\"nucleotide\" x=\"-13.831\" y=\"108.004\">C</text>\n",
       "      <text class=\"nucleotide\" x=\"-3.367\" y=\"119.462\">C</text>\n",
       "      <text class=\"nucleotide\" x=\"11.840\" y=\"122.548\">A</text>\n",
       "      <text class=\"nucleotide\" x=\"25.943\" y=\"116.076\">G</text>\n",
       "      <text class=\"nucleotide\" x=\"33.519\" y=\"102.534\">G</text>\n",
       "      <text class=\"nucleotide\" x=\"48.429\" y=\"100.893\">C</text>\n",
       "      <text class=\"nucleotide\" x=\"63.339\" y=\"99.253\">U</text>\n",
       "      <text class=\"nucleotide\" x=\"78.249\" y=\"97.612\">A</text>\n",
       "      <text class=\"nucleotide\" x=\"93.159\" y=\"95.972\">U</text>\n",
       "      <text class=\"nucleotide\" x=\"107.909\" y=\"98.696\">G</text>\n",
       "      <text class=\"nucleotide\" x=\"121.249\" y=\"105.555\">U</text>\n",
       "      <text class=\"nucleotide\" x=\"134.589\" y=\"112.413\">U</text>\n",
       "      <text class=\"nucleotide\" x=\"147.929\" y=\"119.272\">U</text>\n",
       "      <text class=\"nucleotide\" x=\"161.270\" y=\"126.131\">G</text>\n",
       "      <text class=\"nucleotide\" x=\"174.610\" y=\"132.989\">U</text>\n",
       "      <text class=\"nucleotide\" x=\"187.950\" y=\"139.848\">G</text>\n",
       "      <text class=\"nucleotide\" x=\"199.272\" y=\"152.467\">A</text>\n",
       "      <text class=\"nucleotide\" x=\"214.532\" y=\"145.082\">C</text>\n",
       "      <text class=\"nucleotide\" x=\"211.660\" y=\"128.373\">U</text>\n",
       "      <text class=\"nucleotide\" x=\"194.808\" y=\"126.508\">C</text>\n",
       "      <text class=\"nucleotide\" x=\"181.468\" y=\"119.649\">G</text>\n",
       "      <text class=\"nucleotide\" x=\"168.128\" y=\"112.791\">C</text>\n",
       "      <text class=\"nucleotide\" x=\"154.788\" y=\"105.932\">A</text>\n",
       "      <text class=\"nucleotide\" x=\"141.448\" y=\"99.073\">G</text>\n",
       "      <text class=\"nucleotide\" x=\"128.108\" y=\"92.215\">A</text>\n",
       "      <text class=\"nucleotide\" x=\"114.768\" y=\"85.356\">C</text>\n",
       "      <text class=\"nucleotide\" x=\"127.223\" y=\"76.998\">U</text>\n",
       "      <text class=\"nucleotide\" x=\"132.895\" y=\"63.111\">A</text>\n",
       "      <text class=\"nucleotide\" x=\"129.854\" y=\"48.423\">A</text>\n",
       "      <text class=\"nucleotide\" x=\"119.134\" y=\"37.931\">C</text>\n",
       "      <text class=\"nucleotide\" x=\"104.383\" y=\"35.206\">A</text>\n",
       "    </g>\n",
       "  </g>\n",
       "</svg>"
      ],
      "text/plain": [
       "<IPython.core.display.SVG object>"
      ]
     },
     "metadata": {},
     "output_type": "display_data"
    }
   ],
   "source": [
    "# test: on a single sequence\n",
    "sequence = \"GAGUAGUGGAACCAGGCUAUGUUUGUGACUCGCAGACUAACA\"\n",
    "\n",
    "db = predict_structure(sequence, unpaired_score_simple, paired_score_simple, min_loop=3)\n",
    "mol = RnaMolecule(sequence, db)\n",
    "mol.plot()\n",
    "\n",
    "db2 = predict_structure_mfe(sequence)\n",
    "mol2 = RnaMolecule(sequence, db2)\n",
    "mol2.plot()"
   ]
  },
  {
   "cell_type": "markdown",
   "metadata": {},
   "source": [
    "### Using MTA: Maximum total accuracy\n",
    "Given an alignment and the list of corresponding structures, we try to find the consensus structure that maximises the agreement with all the given structures.\n",
    "\n",
    "The agreement of two structures R and R' is mesured by their accuracy:\n",
    "$$Acc(R,R')= 2λ|R ∩ R'| + |R^u ∩ R'^u |$$\n",
    "R and R' beeing the set of pairs, and $R^u$ and $R'^u$ the set of unpaired positions."
   ]
  },
  {
   "cell_type": "code",
   "execution_count": 11,
   "metadata": {},
   "outputs": [],
   "source": [
    "def unpaired_accuracy_MTA(alignment:List[RnaMolecule], i:int)->float:\n",
    "    '''Compute the unpaired accuracy of a structure'''\n",
    "    unpaired = 0\n",
    "    for mol in alignment:\n",
    "        if mol.dbstring[i] == '.':\n",
    "            unpaired += 1\n",
    "    return unpaired\n",
    "\n",
    "def paired_accuracy_MTA(alignment:List[RnaMolecule], i:int, j:int, l=1)->float:\n",
    "    '''Compute the paired accuracy of a structure'''\n",
    "    paired = 0\n",
    "    for mol in alignment:\n",
    "        if (i,j) in mol.pairs or (j,i) in mol.pairs:\n",
    "            paired += 1\n",
    "    return 2*l*paired"
   ]
  },
  {
   "cell_type": "code",
   "execution_count": 12,
   "metadata": {},
   "outputs": [
    {
     "name": "stdout",
     "output_type": "stream",
     "text": [
      "((-(-...-)))\n",
      "((.(-...-)))\n",
      "((-((...))))\n",
      "____________\n",
      "((.(.....)))\n"
     ]
    }
   ],
   "source": [
    "# test: on an easy alignment\n",
    "seq = [\"GC-C-AAA-GGC\", \"GGGC-AUU-GCC\", \"AC-GGAAUCCGU\"]\n",
    "db = [\"((-(-...-)))\", \"((.(-...-)))\", \"((-((...))))\"]\n",
    "\n",
    "alignment = []\n",
    "for i in range(len(seq)):\n",
    "    alignment.append(RnaMolecule(seq[i],db[i]))\n",
    "    print(db[i])\n",
    "\n",
    "print(12*'_')\n",
    "mta = predict_structure(alignment, unpaired_accuracy_MTA, paired_accuracy_MTA)\n",
    "print(mta)"
   ]
  },
  {
   "cell_type": "markdown",
   "metadata": {},
   "source": [
    "### Using MEA: Maximum expected accuracy\n",
    "For this, we need the base pair probability given by the Vienna package with `fc.bpp()`."
   ]
  },
  {
   "cell_type": "code",
   "execution_count": 13,
   "metadata": {},
   "outputs": [],
   "source": [
    "def unpaired_accuracy_MEA(alignment:List[RnaMolecule], i:int)->float:\n",
    "    '''Compute the unpaired accuracy of a structure'''\n",
    "    unpaired = 0\n",
    "    for mol in alignment:\n",
    "        unpaired += 1-sum(mol.bpp[i][j] + mol.bpp[j][i] for j in range(1,len(mol.bpp)))\n",
    "    return unpaired\n",
    "\n",
    "def paired_accuracy_MEA(alignment:List[RnaMolecule], i:int, j:int, l=1)->float:\n",
    "    '''Compute the paired accuracy of a structure'''\n",
    "    paired = 0\n",
    "    for mol in alignment:\n",
    "        paired += mol.bpp[i+1][j+1]\n",
    "    return 2*l*paired"
   ]
  },
  {
   "cell_type": "markdown",
   "metadata": {},
   "source": [
    "### Using conservation score\n",
    "We add a bonus to the structure if two pairs have covariated to stay complementary:\n",
    "$$\n",
    "\\delta_{cov}(i,j) = 1/2 \\sum_{A, A' \\in alignment} \\begin{cases}\n",
    "  1(A_i \\neq A'_i) + 1(A_j \\neq A'_j)  & \\text{ if $A_i, A_j$ and $A'_i, A'_j$ compl.} \\\\\n",
    "  0 & \\text{otherwise}\n",
    "\\end{cases}\n",
    "$$\n",
    "\n",
    "and a malus if the matched pairs are not complementary:\n",
    "$$\n",
    "\\delta_{inc}(i,j) = 1/2 \\sum_{A \\in alignment} \\begin{cases}\n",
    "  0 & \\text{ if $A_i, A_j$ compl.} \\\\\n",
    "  -0.25 & \\text{ if $A_i, A_j$ gaps} \\\\\n",
    "  -1 & \\text{otherwise}\n",
    "\\end{cases}\n",
    "$$\n",
    "\n",
    "This measure can be combined with the MTA or the MEA to get a consensus alignment."
   ]
  },
  {
   "cell_type": "code",
   "execution_count": 14,
   "metadata": {},
   "outputs": [],
   "source": [
    "def delta_cov(alignment:List[RnaMolecule], i:int, j:int)->float:\n",
    "    '''Compute the covariance bonus'''\n",
    "    res = 0\n",
    "    n = len(alignment)\n",
    "    for a in range(n):\n",
    "        if is_canonical_basepair(alignment[a].sequence[i], alignment[a].sequence[j]):\n",
    "            for b in range(a+1, n):\n",
    "                if is_canonical_basepair(alignment[b].sequence[i], alignment[b].sequence[j]):\n",
    "                    if alignment[a].sequence[i] != alignment[b].sequence[i]:\n",
    "                        res += 1\n",
    "                    if alignment[a].sequence[j] != alignment[b].sequence[j]:\n",
    "                        res += 1\n",
    "    return res/2\n",
    "\n",
    "def delta_inc(alignment:List[RnaMolecule], i:int, j:int)->float:\n",
    "    '''Compute the incompaty malus'''\n",
    "    res = 0\n",
    "    for mol in alignment:\n",
    "        if is_canonical_basepair(mol.sequence[i], mol.sequence[j]):\n",
    "            res += 0\n",
    "        elif mol.sequence[i] == '-' and mol.sequence[j] == '-':\n",
    "            res += 0.25\n",
    "        else:\n",
    "            res += 1\n",
    "    return -res/2\n",
    "\n",
    "def unpaired_MEA_with_conservation(alignment:List[RnaMolecule], i:int)->float:\n",
    "    '''Compute the unpaired accuracy of a structure'''\n",
    "    return unpaired_accuracy_MEA(alignment, i)\n",
    "\n",
    "def paired_MEA_with_conservation(alignment:List[RnaMolecule], i:int, j:int, l=1)->float:\n",
    "    '''Compute the paired accuracy of a structure\n",
    "     weight_cov and weight_inc are between 0 and 1 and sum inferior to 1'''\n",
    "    return paired_accuracy_MEA(alignment, i, j, l) + delta_cov(alignment, i, j) + delta_inc(alignment, i, j)\n",
    "\n",
    "def predict_structure_MEA_cons(alignment:List[RnaMolecule], unpaired_score, paired_score, min_loop=1,l=1)->str:\n",
    "    '''Predict the consensus structure of an alignment'''\n",
    "    n = 0\n",
    "    if type(alignment[0]) == str:\n",
    "        n = len(alignment)\n",
    "    elif type(alignment[0]) == RnaMolecule:\n",
    "        n = len(alignment[0].sequence)\n",
    "    \n",
    "    M = compute_matrix(alignment, n, unpaired_score, paired_score, min_loop,l)\n",
    "    pairs = traceback_matrix(alignment, n, paired_score, M, min_loop,l)\n",
    "    return pairs2db(n, pairs)"
   ]
  },
  {
   "cell_type": "code",
   "execution_count": 15,
   "metadata": {},
   "outputs": [
    {
     "name": "stdout",
     "output_type": "stream",
     "text": [
      "(((((((..(((.............)))((((((.......))))))((((...))))..(((((.......)))))))))))).\n",
      "(((((((..((.((((((((((.....)))))))))).)).......(((....)))...(((((.......)))))))))))).\n",
      "(((((((...(((....)))......((((((((.......))))...........))))(((((.......)))))))))))).\n",
      "((((((((((....((((......))))..((((.(((.((((.............)))).)))..))))...))).))))))).\n",
      ".(((((((((........)))))))))...((((((((((((((..................))))))).....)))))))....\n",
      ".....(((((((((................))))))))).....................(((((.......)))))........\n",
      "(((((((..((((...........)))).(((((.......))))).................(((...))).....))))))).\n",
      "_____________________________________________________________________________________\n",
      "(((((((.......................((((.......))))...............(((((.......)))))))))))).\n",
      "(((((((.......................((((.......))))................(((.........))).))))))).\n",
      "(((((((..(((.............)))..((((.......))))...............((((.........))))))))))).\n",
      "(((((((..(((.............)))..((((.......))))...............(((((.......)))))))))))).\n"
     ]
    }
   ],
   "source": [
    "# test: on a real example\n",
    "sequences = read_file('data/Testdata/tRNA_7.stk')\n",
    "sequences = [str(record.seq) for record in sequences]\n",
    "\n",
    "alignment = []\n",
    "for seq in sequences:\n",
    "    mol = RnaMolecule(seq)\n",
    "    mol.set_structure()\n",
    "    alignment.append(mol)\n",
    "\n",
    "for mol in alignment:\n",
    "    print(mol.dbstring)\n",
    "\n",
    "print(len(alignment[0].sequence)*'_')\n",
    "\n",
    "mta = predict_structure(alignment, unpaired_accuracy_MTA, paired_accuracy_MTA, min_loop=1)\n",
    "print(mta)\n",
    "\n",
    "mea = predict_structure(alignment, unpaired_accuracy_MEA, paired_accuracy_MEA, min_loop=1)\n",
    "print(mea)\n",
    "\n",
    "mcs = predict_structure(alignment, unpaired_MEA_with_conservation, paired_MEA_with_conservation, min_loop=1)\n",
    "print(mcs)\n",
    "\n",
    "mfe = predict_structure_mfe(sequences) # mfe from ViennaRNA also works directly for alignments\n",
    "print(mfe)\n"
   ]
  },
  {
   "cell_type": "markdown",
   "metadata": {},
   "source": [
    "# Benchmark:\n",
    "TODO:\n",
    "read alignment with reference structure\n",
    "compute structure for different algorithms\n",
    "\n",
    "compare with reference. different possible measures:\n",
    "- agreement, see MTA\n",
    "- compare base pairs: TP, FP, FN, see slides\n",
    "- other"
   ]
  },
  {
   "cell_type": "code",
   "execution_count": 16,
   "metadata": {},
   "outputs": [],
   "source": [
    "# to standardize the consensus secondary structure string\n",
    "def standardize_ss_cons(ss_cons):\n",
    "    \"\"\"\n",
    "    Standardize the consensus secondary structure string to use common symbols.\n",
    "\n",
    "    Parameters:\n",
    "    - ss_cons (str): Consensus secondary structure string to be standardized.\n",
    "\n",
    "    Returns:\n",
    "    - str: Standardized consensus secondary structure string.\n",
    "    \"\"\"\n",
    "    standardized_ss_cons = ''\n",
    "    for symbol in ss_cons:\n",
    "        if symbol in ('(', '[', '{', '<'):\n",
    "            standardized_ss_cons += '('\n",
    "        elif symbol in (')', ']', '}', '>'):\n",
    "            standardized_ss_cons += ')'\n",
    "        else:\n",
    "            standardized_ss_cons += '.'\n",
    "    return standardized_ss_cons"
   ]
  },
  {
   "cell_type": "markdown",
   "metadata": {},
   "source": [
    "Here are different evaluations the quality of the algorithms."
   ]
  },
  {
   "cell_type": "code",
   "execution_count": 17,
   "metadata": {},
   "outputs": [],
   "source": [
    "def compare_base_pairs (reference:str, result:str)->float:\n",
    "    ''' variant of the comparison between a reference and a predicted sructure.\n",
    "        Args : \n",
    "            reference : str, official reference structure\n",
    "            result : str, structure resulting from one of the algorithms'''\n",
    "    #initialization :\n",
    "    base_pairs_ref = db2pairs(reference)\n",
    "    base_pairs_result = db2pairs(result)\n",
    "    intersection = base_pairs_ref.intersection(base_pairs_result)\n",
    "\n",
    "    #TP, FP, FN calculation :\n",
    "    TP = len(intersection)\n",
    "    FP = len(base_pairs_result) - len(intersection)\n",
    "    FN = len(base_pairs_ref) - len(intersection)\n",
    "\n",
    "    #results :\n",
    "    recall = TP / (TP + FN)\n",
    "    precision = TP / (TP + FP)\n",
    "    F_measure = TP/(TP+0.5*(FP+FN))\n",
    "\n",
    "    return \"recall   \", recall, \"precision   \", precision, \"F measure   \", F_measure"
   ]
  },
  {
   "cell_type": "code",
   "execution_count": 18,
   "metadata": {},
   "outputs": [],
   "source": [
    "# Variant 1 : we do not penalize compatible false positive predictions \n",
    "def variant_1 (reference:str, result:str)->float:\n",
    "    ''' variant of the comparison between a reference and a predicted sructure. We do not penalize compatible false positive predictions\n",
    "        Args : \n",
    "            reference : str, official reference structure\n",
    "            result : str, structure resulting from one of the algorithms'''\n",
    "\n",
    "    #initialization :\n",
    "    base_pairs_ref = db2pairs(reference)\n",
    "    base_pairs_result = db2pairs(result)\n",
    "    intersection = base_pairs_ref.intersection(base_pairs_result)\n",
    "    other_predictions = base_pairs_result - intersection\n",
    "    not_compatible = set()\n",
    "    for pairs in other_predictions:\n",
    "        for other in (base_pairs_ref-intersection) : #here, we add the non compatible pairs to the set not_compatible\n",
    "            if (pairs[0] not in other and pairs[1]  in other) or (pairs[0] in other and pairs[1]  not in other):\n",
    "                not_compatible.add(pairs)\n",
    "    TP = len(intersection) + len(other_predictions) - len(not_compatible)\n",
    "    FP = len(not_compatible)\n",
    "    FN = len(base_pairs_ref) - len(intersection)\n",
    "\n",
    "    #results :\n",
    "    recall = TP / (TP + FN)\n",
    "    precision = TP / (TP + FP)\n",
    "    F_measure = TP/(TP+0.5*(FP+FN))\n",
    "\n",
    "    return \"recall   \", recall, \"precision   \", precision, \"F measure   \", F_measure"
   ]
  },
  {
   "cell_type": "code",
   "execution_count": 19,
   "metadata": {},
   "outputs": [],
   "source": [
    "# Variant 2 : we consider that base pairs shifted from one position are still valid (=one common end) :\n",
    "\n",
    "def variant_2 (reference:str, result:str)->float:\n",
    "    ''' variant of the comparison between a reference and a predicted sructure.\n",
    "        Args : \n",
    "            reference : str, official reference structure\n",
    "            result : str, structure resulting from one of the algorithms'''\n",
    "\n",
    "    #initialization :\n",
    "    base_pairs_ref = db2pairs(reference)\n",
    "    base_pairs_result = db2pairs(result)\n",
    "    intersection = base_pairs_ref.intersection(base_pairs_result)\n",
    "    other_predictions = base_pairs_result - intersection\n",
    "    shifted = set()\n",
    "    for pairs in base_pairs_result - intersection:\n",
    "        for other in base_pairs_ref: #here, we add the shifted pairs from one position to shifted\n",
    "            if (pairs[0] in other and pairs[1] not in other) or (pairs[1] in other and pairs[0] not in other):\n",
    "                shifted.add(pairs)\n",
    "    TP = len(intersection) + len(shifted)\n",
    "    FP = len(other_predictions) - len(shifted)\n",
    "    FN = len(base_pairs_ref) - len(intersection) - len(shifted)\n",
    "\n",
    "    #results :\n",
    "    recall = TP / (TP + FN)\n",
    "    precision = TP / (TP + FP)\n",
    "    F_measure = TP/(TP+0.5*(FP+FN))\n",
    "\n",
    "    return \"recall   \", recall, \"precision   \", precision, \"F measure   \", F_measure"
   ]
  },
  {
   "cell_type": "code",
   "execution_count": 20,
   "metadata": {},
   "outputs": [],
   "source": [
    "# variant 2 bis\n",
    "def variant_2_bis (reference:str, result:str)->float:\n",
    "    ''' variant of the comparison between a reference and a predicted sructure. the shifts only from one position are accepted\n",
    "        Args : \n",
    "            reference : str, official reference structure\n",
    "            result : str, structure resulting from one of the algorithms'''\n",
    "\n",
    "    #initialization :\n",
    "    base_pairs_ref = db2pairs(reference)\n",
    "    base_pairs_result = db2pairs(result)\n",
    "    intersection = base_pairs_ref.intersection(base_pairs_result)\n",
    "    other_predictions = base_pairs_result - intersection\n",
    "    shifted = set()\n",
    "    for pairs in other_predictions :\n",
    "        for other in base_pairs_ref: #here, we add the shifted pairs from one position to shifted\n",
    "            # only one base is shifted\n",
    "            if pairs[0] in other:\n",
    "                if pairs[1] - 1 in other or pairs[1] + 1 in other:\n",
    "                    shifted.add(pairs)\n",
    "            elif pairs[1] in other:\n",
    "                if pairs[0] - 1 in other or pairs[0] + 1 in other:\n",
    "                    shifted.add(pairs)\n",
    "            #both bases are shifted\n",
    "            elif pairs[0] - 1 or pairs[0]+1 in other:\n",
    "               if pairs[1] - 1 in other or pairs[1] + 1 in other:\n",
    "                  shifted.add(pairs)\n",
    "    TP = len(intersection) + len(shifted)\n",
    "    FP = len(other_predictions) - len(shifted)\n",
    "    FN = len(base_pairs_ref) - len(intersection) - len(shifted)\n",
    "\n",
    "    #results :\n",
    "    recall = TP / (TP + FN)\n",
    "    precision = TP / (TP + FP)\n",
    "    F_measure = TP/(TP+0.5*(FP+FN))\n",
    "\n",
    "    return \"recall   \", recall, \"precision   \", precision, \"F measure   \", F_measure"
   ]
  },
  {
   "cell_type": "code",
   "execution_count": 21,
   "metadata": {},
   "outputs": [],
   "source": [
    "ref = AlignIO.read(\"RF00100.stockholm.txt\", \"stockholm\")"
   ]
  },
  {
   "cell_type": "code",
   "execution_count": 22,
   "metadata": {},
   "outputs": [],
   "source": [
    "# Firsts tests :\n",
    "\n",
    "ss_cons = ref.column_annotations['secondary_structure']\n",
    "\n",
    "ss_cons = standardize_ss_cons(ss_cons)\n",
    "\n",
    "j=50\n",
    "\n",
    "references = [str(record.seq) for record in ref[0:j]]\n",
    "alignment = []\n",
    "for seq in references:\n",
    "    mol = RnaMolecule(seq)\n",
    "    mol.set_structure()\n",
    "    alignment.append(mol)\n",
    "\n"
   ]
  },
  {
   "cell_type": "code",
   "execution_count": 23,
   "metadata": {},
   "outputs": [],
   "source": [
    "#test of MTA on the j first sequences of the alignment\n",
    "pred_MTA = predict_structure(alignment, unpaired_accuracy_MTA, paired_accuracy_MTA, min_loop=1)\n",
    "\n",
    "# test of MEA on the j first sequences of the alignment\n",
    "pred_MEA = predict_structure(alignment, unpaired_accuracy_MEA, paired_accuracy_MEA, min_loop=1)\n",
    "\n",
    "# test of MEA with conservation on the j first sequences of the alignment\n",
    "pred_MEA_with_conservation = predict_structure(alignment, unpaired_MEA_with_conservation, paired_MEA_with_conservation, min_loop=1)"
   ]
  },
  {
   "cell_type": "code",
   "execution_count": 24,
   "metadata": {},
   "outputs": [
    {
     "name": "stdout",
     "output_type": "stream",
     "text": [
      "('recall   ', 0.25287356321839083, 'precision   ', 0.3188405797101449, 'F measure   ', 0.28205128205128205)\n",
      "('recall   ', 0.3157894736842105, 'precision   ', 0.43478260869565216, 'F measure   ', 0.36585365853658536)\n",
      "('recall   ', 0.7011494252873564, 'precision   ', 0.8840579710144928, 'F measure   ', 0.782051282051282)\n",
      "('recall   ', 0.5977011494252874, 'precision   ', 0.7536231884057971, 'F measure   ', 0.6666666666666666)\n"
     ]
    }
   ],
   "source": [
    "print(compare_base_pairs(ss_cons, pred_MTA))\n",
    "print(variant_1(ss_cons, pred_MTA))\n",
    "print(variant_2(ss_cons, pred_MTA))\n",
    "print(variant_2_bis(ss_cons, pred_MTA))"
   ]
  },
  {
   "cell_type": "code",
   "execution_count": 25,
   "metadata": {},
   "outputs": [
    {
     "name": "stdout",
     "output_type": "stream",
     "text": [
      "('recall   ', 0.1839080459770115, 'precision   ', 0.38095238095238093, 'F measure   ', 0.24806201550387597)\n",
      "('recall   ', 0.22826086956521738, 'precision   ', 0.5, 'F measure   ', 0.31343283582089554)\n",
      "('recall   ', 0.42528735632183906, 'precision   ', 0.8809523809523809, 'F measure   ', 0.5736434108527132)\n",
      "('recall   ', 0.40229885057471265, 'precision   ', 0.8333333333333334, 'F measure   ', 0.5426356589147286)\n"
     ]
    }
   ],
   "source": [
    "print(compare_base_pairs(ss_cons, pred_MEA))\n",
    "print(variant_1(ss_cons, pred_MEA))\n",
    "print(variant_2(ss_cons, pred_MEA))\n",
    "print(variant_2_bis(ss_cons, pred_MEA))\n"
   ]
  },
  {
   "cell_type": "markdown",
   "metadata": {},
   "source": [
    "Analyzis : Recall very low -> MEA non optimized forgets a lot of pairs but has no false positive. We have to give more weigh to the pairs thanks to lambda.\n",
    "We keep the variant 2 bis for the evaluation because it is more relevant to evaluate MEA with conservation that allows covariations.\n",
    "variant 1 also interesting BECAUSE ?"
   ]
  },
  {
   "cell_type": "code",
   "execution_count": 26,
   "metadata": {},
   "outputs": [
    {
     "name": "stdout",
     "output_type": "stream",
     "text": [
      "('recall   ', 0.39080459770114945, 'precision   ', 0.3541666666666667, 'F measure   ', 0.37158469945355194)\n",
      "('recall   ', 0.5350877192982456, 'precision   ', 0.6354166666666666, 'F measure   ', 0.580952380952381)\n",
      "('recall   ', 0.7931034482758621, 'precision   ', 0.71875, 'F measure   ', 0.7540983606557377)\n",
      "('recall   ', 0.7241379310344828, 'precision   ', 0.65625, 'F measure   ', 0.6885245901639344)\n"
     ]
    }
   ],
   "source": [
    "#A DEPLACER APRÈS L'OPTIMISATION DE MEA \n",
    "print(compare_base_pairs(ss_cons, pred_MEA_with_conservation))\n",
    "print(variant_1(ss_cons, pred_MEA_with_conservation))\n",
    "print(variant_2(ss_cons, pred_MEA_with_conservation))\n",
    "print(variant_2_bis(ss_cons, pred_MEA_with_conservation))\n"
   ]
  },
  {
   "cell_type": "markdown",
   "metadata": {},
   "source": [
    "### Conclusion :\n",
    "- The evaluation called variant 2 is allways the less challenging. It is logical since as soon that ther is one common end in the base pair, it is considered correct. Nevertheless, it is not the most pertinent.\n",
    "- The results are hardly interpretable because the parameters have not been optimized yet. For the following parts, we will use only the variant 1 evaluation for comparisons."
   ]
  },
  {
   "cell_type": "markdown",
   "metadata": {},
   "source": [
    "### Find the best parameters for MEA"
   ]
  },
  {
   "cell_type": "code",
   "execution_count": 27,
   "metadata": {},
   "outputs": [
    {
     "data": {
      "image/png": "[encoded data removed]",
      "text/plain": [
       "<Figure size 640x480 with 1 Axes>"
      ]
     },
     "metadata": {},
     "output_type": "display_data"
    }
   ],
   "source": [
    "def test_MEA (lambdas, alignment, ss_cons) :\n",
    "    scores =[]\n",
    "    for l in lambdas :\n",
    "        pred_MEA = predict_structure(alignment, unpaired_accuracy_MEA, paired_accuracy_MEA, 1,l)\n",
    "        scores.append(variant_1(ss_cons, pred_MEA))\n",
    "\n",
    "    recall = []\n",
    "    precision = []  \n",
    "    F_measure = []\n",
    "    for i in range (len(scores)) :\n",
    "        recall.append(scores[i][1])\n",
    "        precision.append(scores[i][3])\n",
    "        F_measure.append(scores[i][5])\n",
    "\n",
    "    plt.plot(lambdas, recall, 'or', label = \"recall\")\n",
    "    plt.plot(lambdas, precision, 'ob', label = \"precision\") \n",
    "    plt.plot(lambdas, F_measure, 'og', label = \"F_measure\")\n",
    "    plt.legend()\n",
    "    plt.show()\n",
    "\n",
    "#test of MEA with a certain number of values of lambda tested :\n",
    "lambdas = [i for i in range(1, 11)]\n",
    "test_MEA(lambdas, alignment, ss_cons)\n"
   ]
  },
  {
   "cell_type": "markdown",
   "metadata": {},
   "source": [
    "Lambda = 2 seems to be the best option here :\n",
    "- the recall value is not better after ;\n",
    "- the precision is not yet down ;\n",
    "- and consequently th F_measure is the best one ;"
   ]
  },
  {
   "cell_type": "code",
   "execution_count": 28,
   "metadata": {},
   "outputs": [
    {
     "data": {
      "image/png": "[encoded data removed]",
      "text/plain": [
       "<Figure size 640x480 with 1 Axes>"
      ]
     },
     "metadata": {},
     "output_type": "display_data"
    }
   ],
   "source": [
    "# Just to check that there is no other good value for lambda, higher thant 10 :\n",
    "lambdas2 = [ i for i in range (10,100,10)]\n",
    "test_MEA(lambdas2, alignment, ss_cons)"
   ]
  },
  {
   "cell_type": "markdown",
   "metadata": {},
   "source": [
    "The results will be better with lambda in [0,10].\n",
    "\n",
    "For more precision, let's execute the algorithm on a very short interval centered on 2."
   ]
  },
  {
   "cell_type": "code",
   "execution_count": 29,
   "metadata": {},
   "outputs": [
    {
     "data": {
      "image/png": "[encoded data removed]",
      "text/plain": [
       "<Figure size 640x480 with 1 Axes>"
      ]
     },
     "metadata": {},
     "output_type": "display_data"
    }
   ],
   "source": [
    "lambdas3 = [1.5+i/10 for i in range(0,10)]\n",
    "test_MEA(lambdas3, alignment, ss_cons)"
   ]
  },
  {
   "cell_type": "markdown",
   "metadata": {},
   "source": [
    "Thus, the best lambda parameter for Maximum Expected Accuracy seems to be about 1.6 (recall score very constant, precision score much better under 1.7)"
   ]
  },
  {
   "cell_type": "code",
   "execution_count": 30,
   "metadata": {},
   "outputs": [
    {
     "name": "stdout",
     "output_type": "stream",
     "text": [
      "('recall   ', 0.22988505747126436, 'precision   ', 0.3508771929824561, 'F measure   ', 0.2777777777777778)\n",
      "('recall   ', 0.27956989247311825, 'precision   ', 0.45614035087719296, 'F measure   ', 0.3466666666666667)\n",
      "('recall   ', 0.5862068965517241, 'precision   ', 0.8947368421052632, 'F measure   ', 0.7083333333333334)\n",
      "('recall   ', 0.5402298850574713, 'precision   ', 0.8245614035087719, 'F measure   ', 0.6527777777777778)\n"
     ]
    }
   ],
   "source": [
    "# (A test was done with the variant 2 bis evaluation and the results were equivalent)\n",
    "#new test after optimization :\n",
    "pred_MEA = predict_structure(alignment, unpaired_accuracy_MEA, paired_accuracy_MEA, min_loop=1,l=1.6)\n",
    "print(compare_base_pairs(ss_cons, pred_MEA))\n",
    "print(variant_1(ss_cons, pred_MEA))\n",
    "print(variant_2(ss_cons, pred_MEA))\n",
    "print(variant_2_bis(ss_cons, pred_MEA))"
   ]
  },
  {
   "cell_type": "markdown",
   "metadata": {},
   "source": [
    "For comparison, here are the precedent results, before optimization:\n",
    "\n",
    "\n",
    "('recall   ', 0.05747126436781609, 'precision   ', 0.8333333333333334, 'F measure   ', 0.10752688172043011)\n",
    "\n",
    "\n",
    "('recall   ', 0.05747126436781609, 'precision   ', 0.8333333333333334, 'F measure   ', 0.10752688172043011)\n",
    "\n",
    "\n",
    "('recall   ', 0.06896551724137931, 'precision   ', 1.0, 'F measure   ', 0.12903225806451613)\n",
    "\n",
    "\n",
    "('recall   ', 0.05747126436781609, 'precision   ', 0.8333333333333334, 'F measure   ', 0.10752688172043011)\n",
    "\n",
    "--> We really enhance the recall (*5-10), and we keep a good precision."
   ]
  },
  {
   "cell_type": "markdown",
   "metadata": {},
   "source": [
    "### Find the best parameters for MEA with conservation"
   ]
  },
  {
   "cell_type": "markdown",
   "metadata": {},
   "source": [
    "For the optimization of the MEA correction, we are forced to modify the precedent functions in order to add weight parameters easily."
   ]
  },
  {
   "cell_type": "code",
   "execution_count": 31,
   "metadata": {},
   "outputs": [],
   "source": [
    "def compute_matrix_2(alignment:List[RnaMolecule], n, unpaired_score, paired_score,l,weight_paired, weight_cov, weight_inc,min_loop=1)->np.array:\n",
    "    '''Predict folding of RNA alignement using modified Nussinov algorithm'''\n",
    "\n",
    "    M = np.zeros((n, n))\n",
    "\n",
    "    # initialize the matrix\n",
    "    for i in range(n):\n",
    "        for j in range(i, min(n,i+min_loop+1)):\n",
    "            M[i][j] = unpaired_score(alignment, i)\n",
    "    # fill the matrix\n",
    "    for i in reversed(range(n)):\n",
    "        for j in range(i+min_loop+1, n):\n",
    "            M[i][j] = max([M[i,k] + M[k+1,j] for k in range(i, j)])\n",
    "            M[i][j] = max(M[i][j], M[i+1,j-1] + paired_score(alignment, i, j,l,weight_paired, weight_cov, weight_inc))\n",
    "    return M\n",
    "\n",
    "def traceback_matrix_2(alignment:List[RnaMolecule], n, paired_score, M:np.array,l,weight_paired, weight_cov, weight_inc,min_loop=1) -> list:\n",
    "    '''Traceback the modified Nussinov matrix to find the pairs'''\n",
    "     \n",
    "    def traceback_position_2(i,j,l,weight_paired, weight_cov, weight_inc):\n",
    "        pairs = []\n",
    "        while j-i >= min_loop:\n",
    "            if M[i][j] == M[i+1][j-1] + paired_score(alignment, i, j,l, weight_paired, weight_cov, weight_inc):\n",
    "                pairs.append((i,j))\n",
    "                i += 1\n",
    "                j -= 1\n",
    "            elif M[i][j] == M[i+1][j]:  # not necessary, but avoids some recurisve calls\n",
    "                i += 1\n",
    "            elif M[i][j] == M[i][j-1]:\n",
    "                j -= 1\n",
    "            else:\n",
    "                for k in range(i, j):\n",
    "                    if M[i][j] == M[i][k] + M[k+1][j]:\n",
    "                        pairs += traceback_position_2(i, k,l, weight_paired, weight_cov, weight_inc)\n",
    "                        pairs += traceback_position_2(k+1, j,l, weight_paired, weight_cov, weight_inc)\n",
    "                        return pairs\n",
    "        return pairs\n",
    "\n",
    "    return traceback_position_2(0, n-1,l, weight_paired, weight_cov, weight_inc)\n",
    "\n",
    "def predict_structure_2(alignment:List[RnaMolecule], unpaired_score, paired_score,l,weight_paired, weight_cov,weight_inc,min_loop=1)->str:\n",
    "    '''Predict the consensus structure of an alignment'''\n",
    "    n = 0\n",
    "    if type(alignment[0]) == str:\n",
    "        n = len(alignment)\n",
    "    elif type(alignment[0]) == RnaMolecule:\n",
    "        n = len(alignment[0].sequence)\n",
    "    \n",
    "    M = compute_matrix_2(alignment, n, unpaired_score, paired_score,l, weight_paired, weight_cov, weight_inc,min_loop)\n",
    "    pairs = traceback_matrix_2(alignment, n, paired_score, M, l, weight_paired, weight_cov, weight_inc, min_loop)\n",
    "    return pairs2db(n, pairs)\n",
    "\n",
    "def delta_cov_2(alignment:List[RnaMolecule], i:int, j:int,weight_cov)->float:\n",
    "    '''Compute the covariance bonus'''\n",
    "    res = 0\n",
    "    n = len(alignment)\n",
    "    for a in range(n):\n",
    "        if is_canonical_basepair(alignment[a].sequence[i], alignment[a].sequence[j]):\n",
    "            for b in range(a+1, n):\n",
    "                if is_canonical_basepair(alignment[b].sequence[i], alignment[b].sequence[j]):\n",
    "                    if alignment[a].sequence[i] != alignment[b].sequence[i]:\n",
    "                        res += 1\n",
    "                    if alignment[a].sequence[j] != alignment[b].sequence[j]:\n",
    "                        res += 1\n",
    "    return res*weight_cov\n",
    "\n",
    "def delta_inc_2(alignment:List[RnaMolecule], i:int, j:int,weight_inc)->float:\n",
    "    '''Compute the incompaty malus'''\n",
    "    res = 0\n",
    "    for mol in alignment:\n",
    "        if is_canonical_basepair(mol.sequence[i], mol.sequence[j]):\n",
    "            res += 0\n",
    "        elif mol.sequence[i] == '-' and mol.sequence[j] == '-':\n",
    "            res += 0.25\n",
    "        else:\n",
    "            res += 1\n",
    "    return -res*weight_inc\n",
    "\n",
    "def unpaired_MEA_cons_2(alignment:List[RnaMolecule], i:int)->float:\n",
    "    '''Compute the unpaired accuracy of a structure'''\n",
    "    return unpaired_accuracy_MEA(alignment, i)\n",
    "\n",
    "def paired_MEA_cons_2(alignment:List[RnaMolecule], i:int, j:int, l,weight_paired, weight_cov,weight_inc)->float:\n",
    "    '''Compute the paired accuracy of a structure\n",
    "     weight_paired, weight_cov and weight_inc are between 0 and 1 and sum inferior to 1'''\n",
    "    return weight_paired*paired_accuracy_MEA(alignment, i, j, l) + delta_cov_2(alignment, i, j, weight_cov) + delta_inc_2(alignment, i, j, weight_inc)\n",
    "\n",
    "def predict_structure_MEA_cons_2(alignment:List[RnaMolecule], unpaired_score, paired_score, l, weight_paired, weight_cov, weight_inc, min_loop=1)->str:\n",
    "    '''Predict the consensus structure of an alignment'''\n",
    "    n = 0\n",
    "    if type(alignment[0]) == str:\n",
    "        n = len(alignment)\n",
    "    elif type(alignment[0]) == RnaMolecule:\n",
    "        n = len(alignment[0].sequence)\n",
    "    \n",
    "    M = compute_matrix_2(alignment, n, unpaired_score, paired_score,l, weight_paired, weight_cov, weight_inc, min_loop)    \n",
    "    pairs = traceback_matrix_2(alignment, n, paired_score, M, l, weight_paired, weight_cov, weight_inc,min_loop=1)\n",
    "    return pairs2db(n, pairs)"
   ]
  },
  {
   "cell_type": "code",
   "execution_count": 32,
   "metadata": {},
   "outputs": [
    {
     "name": "stdout",
     "output_type": "stream",
     "text": [
      "('recall   ', 0.2988505747126437, 'precision   ', 0.34210526315789475, 'F measure   ', 0.31901840490797545)\n",
      "('recall   ', 0.42990654205607476, 'precision   ', 0.6052631578947368, 'F measure   ', 0.5027322404371585)\n",
      "('recall   ', 0.6436781609195402, 'precision   ', 0.7368421052631579, 'F measure   ', 0.6871165644171779)\n",
      "('recall   ', 0.5977011494252874, 'precision   ', 0.6842105263157895, 'F measure   ', 0.6380368098159509)\n",
      "[]\n"
     ]
    }
   ],
   "source": [
    "# First test to have a first idea of the results (the coefficients are chosen in order to follow the 1:0.5:0/5 ratio)\n",
    "scores =[]\n",
    "pred_MEA = predict_structure_MEA_cons_2(alignment, unpaired_MEA_cons_2, paired_MEA_cons_2, 1.6, 1/2, 0.25, 0.25)\n",
    "print(compare_base_pairs(ss_cons, pred_MEA))\n",
    "print(variant_1(ss_cons, pred_MEA))\n",
    "print(variant_2(ss_cons, pred_MEA))\n",
    "print(variant_2_bis(ss_cons, pred_MEA))\n",
    "print(scores)"
   ]
  },
  {
   "cell_type": "markdown",
   "metadata": {},
   "source": [
    "From the results we can deduce :\n",
    "- recall < precision --> there is more False Negative than False positive so we have to boost the pairs thanks to the covariation score.\n",
    "- the variant_1 evaluation is the worst one after the basic evaluation -> there is less Compatible False Positive than shifts from one position.\n",
    "\n",
    "First : a very simple first optimization of the parameters. We could expect that a higher weight cov gives better results."
   ]
  },
  {
   "cell_type": "code",
   "execution_count": 33,
   "metadata": {},
   "outputs": [
    {
     "data": {
      "image/png": "[encoded data removed]",
      "text/plain": [
       "<Figure size 640x480 with 1 Axes>"
      ]
     },
     "metadata": {},
     "output_type": "display_data"
    }
   ],
   "source": [
    "scores =[]\n",
    "length = 0\n",
    "for wcov in range (1,5) :\n",
    "    for winc in range (1,6-wcov) :\n",
    "        wpaired = 6-wcov-winc\n",
    "        pred_MEA = predict_structure_MEA_cons_2(alignment, unpaired_MEA_cons_2, paired_MEA_cons_2, 1.6, wpaired, wcov, winc)\n",
    "        scores.append(variant_2(ss_cons, pred_MEA))\n",
    "        length += 1\n",
    "\n",
    "X = [i for i in range(length)]\n",
    "recall = []\n",
    "precision = []  \n",
    "F_measure = []\n",
    "for i in range (len(scores)) :\n",
    "    recall.append(scores[i][1])\n",
    "    precision.append(scores[i][3])\n",
    "    F_measure.append(scores[i][5])\n",
    "\n",
    "plt.plot(X, recall, 'or', label = \"recall\")\n",
    "plt.plot(X, precision, 'ob', label = \"precision\") \n",
    "plt.plot(X, F_measure, 'og', label = \"F_measure\")\n",
    "plt.legend()\n",
    "plt.show()"
   ]
  },
  {
   "cell_type": "markdown",
   "metadata": {},
   "source": [
    "Results :\n",
    "- best scores for the three first values so wcov = 1\n",
    "- best recall for wcov = 1, winc = 2, wpaired = 3\n",
    "- best precision for wcov = 1, winc = 3, wpaired = 2\n",
    "\n",
    "Let's take wcov = 1, winc = 2, wpaired = 3 since the F_measure is a little bit better\n",
    "\n",
    "Next : the same but on smaller intervals centered on the best result."
   ]
  },
  {
   "cell_type": "code",
   "execution_count": 34,
   "metadata": {},
   "outputs": [
    {
     "name": "stdout",
     "output_type": "stream",
     "text": [
      "('recall   ', 0.8850574712643678, 'precision   ', 0.7064220183486238, 'F measure   ', 0.7857142857142857)\n"
     ]
    }
   ],
   "source": [
    "#comparison with the function of the Vienna RNA package :\n",
    "#print([str(record.seq) for record in ref[0:5]])\n",
    "references = [str(record.seq) for record in ref[0:50]]\n",
    "vienna = predict_structure_mfe(references)\n",
    "print(variant_2(ss_cons, pred_MEA))"
   ]
  },
  {
   "cell_type": "markdown",
   "metadata": {},
   "source": [
    "### Time comparison between the different algorithms"
   ]
  },
  {
   "cell_type": "markdown",
   "metadata": {},
   "source": [
    "We keep the best parametization and we compare the efficiency of the differents algorithms by comparing their computational time "
   ]
  },
  {
   "cell_type": "code",
   "execution_count": 35,
   "metadata": {},
   "outputs": [],
   "source": [
    "#ss_cons = ref.column_annotations['secondary_structure']\n",
    "#ss_cons = standardize_ss_cons(ss_cons)\n",
    "import time\n",
    "\n",
    "#parametization :\n",
    "wpaired = 3\n",
    "wcov = 1\n",
    "winc = 2"
   ]
  },
  {
   "cell_type": "code",
   "execution_count": 36,
   "metadata": {},
   "outputs": [],
   "source": [
    "def impact_number_of_sequences (j, extracted_data) :\n",
    "    references = [str(record.seq) for record in extracted_data[0:j]]\n",
    "    alignment = []\n",
    "    for seq in references:\n",
    "        mol = RnaMolecule(seq)\n",
    "        mol.set_structure()\n",
    "        alignment.append(mol)\n",
    "\n",
    "    #test of MTA on the j first sequences of the alignment\n",
    "    begin = time.time()\n",
    "    pred_MTA = predict_structure(alignment, unpaired_accuracy_MTA, paired_accuracy_MTA, min_loop=1)\n",
    "    end = time.time()\n",
    "    time_MTA = end - begin\n",
    "\n",
    "    # test of MEA on the j first sequences of the alignment\n",
    "    begin = time.time()\n",
    "    pred_MEA = predict_structure(alignment, unpaired_accuracy_MEA, paired_accuracy_MEA, 1, 1.6)\n",
    "    end = time.time()\n",
    "    time_MEA = end - begin\n",
    "\n",
    "    # test of MEA with conservation on the j first sequences of the alignment\n",
    "    begin = time.time()\n",
    "    pred_MEA_cons = predict_structure_MEA_cons_2(alignment, unpaired_MEA_cons_2, paired_MEA_cons_2, 1.6, wpaired, wcov, winc)\n",
    "    end = time.time()\n",
    "    time_MEA_cons = end - begin\n",
    "\n",
    "    return 'MTA : ',time_MTA,' MEA : ', time_MEA,' MEA with conservation : ', time_MEA_cons"
   ]
  },
  {
   "cell_type": "code",
   "execution_count": 37,
   "metadata": {},
   "outputs": [
    {
     "name": "stdout",
     "output_type": "stream",
     "text": [
      "test 1 :  ('MTA : ', 5.432017803192139, ' MEA : ', 5.280640125274658, ' MEA with conservation : ', 5.832626819610596)\n",
      "test 2 :  ('MTA : ', 6.07528829574585, ' MEA : ', 7.434422016143799, ' MEA with conservation : ', 9.515290975570679)\n",
      "test 3 :  ('MTA : ', 18.569649934768677, ' MEA : ', 18.422217845916748, ' MEA with conservation : ', 38.00139331817627)\n"
     ]
    }
   ],
   "source": [
    "#test 1 : 1 total sequence\n",
    "test_1 = impact_number_of_sequences(1, ref)\n",
    "print('test 1 : ', test_1)\n",
    "\n",
    "#test 2 : 10 total sequences,  long\n",
    "test_2 = impact_number_of_sequences(10, ref)\n",
    "print('test 2 : ', test_2)\n",
    "\n",
    "#test 3 : 50 total sequences, short ?\n",
    "test_3 = impact_number_of_sequences(50, ref)\n",
    "print('test 3 : ', test_3)"
   ]
  },
  {
   "cell_type": "code",
   "execution_count": 39,
   "metadata": {},
   "outputs": [
    {
     "data": {
      "image/png": "[encoded data removed]",
      "text/plain": [
       "<Figure size 640x480 with 1 Axes>"
      ]
     },
     "metadata": {},
     "output_type": "display_data"
    }
   ],
   "source": [
    "# Evolution of the time of execution of the algorithms with the number of sequences in the alignment (from 1 to ten)\n",
    "X = [i for i in range(1,11)]\n",
    "Y_MTA = []\n",
    "Y_MEA = []\n",
    "Y_MEA_cons = []\n",
    "for j in range(1,11) :\n",
    "    test = impact_number_of_sequences(j, ref)\n",
    "    Y_MTA.append(test[1])\n",
    "    Y_MEA.append(test[3])\n",
    "    Y_MEA_cons.append(test[5])  \n",
    "\n",
    "plt.plot(X, Y_MTA, 'or', label = \"MTA\")\n",
    "plt.plot(X, Y_MEA, 'ob', label = \"MEA\")\n",
    "plt.plot(X, Y_MEA_cons, 'og', label = \"MEA with conservation\")\n",
    "plt.legend()\n",
    "plt.show()"
   ]
  }
 ],
 "metadata": {
  "kernelspec": {
   "display_name": ".venv",
   "language": "python",
   "name": "python3"
  },
  "language_info": {
   "codemirror_mode": {
    "name": "ipython",
    "version": 3
   },
   "file_extension": ".py",
   "mimetype": "text/x-python",
   "name": "python",
   "nbconvert_exporter": "python",
   "pygments_lexer": "ipython3",
   "version": "3.9.18"
  }
 },
 "nbformat": 4,
 "nbformat_minor": 2
}
